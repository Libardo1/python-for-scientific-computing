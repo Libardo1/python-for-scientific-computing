{
 "metadata": {
  "name": "",
  "signature": "sha256:84def8b680cbe7458326c00b3c651e32372bf09174b1bb48bb8f498fbc260a91"
 },
 "nbformat": 3,
 "nbformat_minor": 0,
 "worksheets": [
  {
   "cells": [
    {
     "cell_type": "markdown",
     "metadata": {},
     "source": [
      "3D plotting"
     ]
    },
    {
     "cell_type": "code",
     "collapsed": false,
     "input": [
      "from mayavi import mlab"
     ],
     "language": "python",
     "metadata": {},
     "outputs": [],
     "prompt_number": 1
    },
    {
     "cell_type": "code",
     "collapsed": false,
     "input": [
      "dir(mlab)"
     ],
     "language": "python",
     "metadata": {},
     "outputs": [
      {
       "metadata": {},
       "output_type": "pyout",
       "prompt_number": 2,
       "text": [
        "['ETSConfig',\n",
        " '__builtins__',\n",
        " '__doc__',\n",
        " '__file__',\n",
        " '__name__',\n",
        " '__package__',\n",
        " 'animate',\n",
        " 'axes',\n",
        " 'barchart',\n",
        " 'clf',\n",
        " 'close',\n",
        " 'colorbar',\n",
        " 'contour3d',\n",
        " 'contour_surf',\n",
        " 'draw',\n",
        " 'figure',\n",
        " 'flow',\n",
        " 'gcf',\n",
        " 'get_engine',\n",
        " 'imshow',\n",
        " 'mesh',\n",
        " 'move',\n",
        " 'options',\n",
        " 'orientation_axes',\n",
        " 'outline',\n",
        " 'pipeline',\n",
        " 'pitch',\n",
        " 'plot3d',\n",
        " 'points3d',\n",
        " 'quiver3d',\n",
        " 'roll',\n",
        " 'savefig',\n",
        " 'scalarbar',\n",
        " 'screenshot',\n",
        " 'set_engine',\n",
        " 'show',\n",
        " 'show_engine',\n",
        " 'show_pipeline',\n",
        " 'start_recording',\n",
        " 'stop_recording',\n",
        " 'surf',\n",
        " 'sync_camera',\n",
        " 'sys',\n",
        " 'test_barchart',\n",
        " 'test_contour3d',\n",
        " 'test_contour3d_anim',\n",
        " 'test_contour_surf',\n",
        " 'test_fancy_mesh',\n",
        " 'test_flow',\n",
        " 'test_flow_anim',\n",
        " 'test_imshow',\n",
        " 'test_mesh',\n",
        " 'test_mesh_sphere',\n",
        " 'test_mesh_sphere_anim',\n",
        " 'test_molecule',\n",
        " 'test_plot3d',\n",
        " 'test_plot3d_anim',\n",
        " 'test_points3d',\n",
        " 'test_points3d_anim',\n",
        " 'test_quiver3d',\n",
        " 'test_quiver3d_2d_data',\n",
        " 'test_simple_surf',\n",
        " 'test_simple_surf_anim',\n",
        " 'test_surf',\n",
        " 'test_triangular_mesh',\n",
        " 'text',\n",
        " 'text3d',\n",
        " 'title',\n",
        " 'triangular_mesh',\n",
        " 'vectorbar',\n",
        " 'view',\n",
        " 'wxversion',\n",
        " 'xlabel',\n",
        " 'yaw',\n",
        " 'ylabel',\n",
        " 'zlabel']"
       ]
      }
     ],
     "prompt_number": 2
    },
    {
     "cell_type": "code",
     "collapsed": false,
     "input": [
      "mlab.test_mesh()\n",
      "mlab.show()"
     ],
     "language": "python",
     "metadata": {},
     "outputs": [],
     "prompt_number": 3
    },
    {
     "cell_type": "code",
     "collapsed": false,
     "input": [
      "mlab.test_triangular_mesh()\n",
      "mlab.show()"
     ],
     "language": "python",
     "metadata": {},
     "outputs": [],
     "prompt_number": 4
    },
    {
     "cell_type": "code",
     "collapsed": false,
     "input": [
      "mlab.test_quiver3d()\n",
      "mlab.show()"
     ],
     "language": "python",
     "metadata": {},
     "outputs": [],
     "prompt_number": 5
    },
    {
     "cell_type": "code",
     "collapsed": false,
     "input": [
      "import numpy as np\n",
      "\n",
      "x = np.linspace(0, 2*np.pi, 128)\n",
      "\n",
      "f = (np.sin(  x[:, np.newaxis, np.newaxis]+3*x[np.newaxis, :, np.newaxis]) +\n",
      "     np.cos(2*x[np.newaxis, np.newaxis, :]+2*x[np.newaxis, :, np.newaxis]))\n",
      "\n",
      "mlab.contour3d(f.T)\n",
      "mlab.show()"
     ],
     "language": "python",
     "metadata": {},
     "outputs": [],
     "prompt_number": 6
    },
    {
     "cell_type": "code",
     "collapsed": false,
     "input": [
      "\n",
      "f = (np.sin(  x[:, np.newaxis, np.newaxis]+3*x[np.newaxis, :, np.newaxis]) +\n",
      "     np.cos(2*x[np.newaxis, np.newaxis, :]+2*x[np.newaxis, :, np.newaxis]))\n",
      "\n",
      "g = (np.sin(2*x[:, np.newaxis, np.newaxis]+3*x[np.newaxis, :, np.newaxis]) +\n",
      "     np.cos(  x[np.newaxis, np.newaxis, :]+2*x[np.newaxis, :, np.newaxis]))\n",
      "\n",
      "h = (np.sin(3*x[:, np.newaxis, np.newaxis]+  x[np.newaxis, :, np.newaxis]) +\n",
      "     np.cos(  x[np.newaxis, np.newaxis, :]+2*x[np.newaxis, :, np.newaxis]))\n",
      "\n",
      "#help(mlab.flow)\n",
      "mlab.flow(f, g, h)\n",
      "mlab.show()"
     ],
     "language": "python",
     "metadata": {},
     "outputs": [
      {
       "ename": "KeyboardInterrupt",
       "evalue": "",
       "output_type": "pyerr",
       "traceback": [
        "\u001b[1;31m---------------------------------------------------------------------------\u001b[0m\n\u001b[1;31mKeyboardInterrupt\u001b[0m                         Traceback (most recent call last)",
        "\u001b[1;32m/usr/lib/python2.7/dist-packages/tvtk/pyface/ui/wx/wxVTKRenderWindowInteractor.pyc\u001b[0m in \u001b[0;36mOnEnter\u001b[1;34m(self, event)\u001b[0m\n\u001b[0;32m    461\u001b[0m         \u001b[0mself\u001b[0m\u001b[1;33m.\u001b[0m\u001b[0m_Iren\u001b[0m\u001b[1;33m.\u001b[0m\u001b[0mMouseMoveEvent\u001b[0m\u001b[1;33m(\u001b[0m\u001b[1;33m)\u001b[0m\u001b[1;33m\u001b[0m\u001b[0m\n\u001b[0;32m    462\u001b[0m \u001b[1;33m\u001b[0m\u001b[0m\n\u001b[1;32m--> 463\u001b[1;33m     \u001b[1;32mdef\u001b[0m \u001b[0mOnEnter\u001b[0m\u001b[1;33m(\u001b[0m\u001b[0mself\u001b[0m\u001b[1;33m,\u001b[0m\u001b[0mevent\u001b[0m\u001b[1;33m)\u001b[0m\u001b[1;33m:\u001b[0m\u001b[1;33m\u001b[0m\u001b[0m\n\u001b[0m\u001b[0;32m    464\u001b[0m         \"\"\"Handles the wx.EVT_ENTER_WINDOW event for\n\u001b[0;32m    465\u001b[0m         \u001b[0mwxVTKRenderWindowInteractor\u001b[0m\u001b[1;33m.\u001b[0m\u001b[1;33m\u001b[0m\u001b[0m\n",
        "\u001b[1;31mKeyboardInterrupt\u001b[0m: "
       ]
      }
     ],
     "prompt_number": 7
    },
    {
     "cell_type": "code",
     "collapsed": false,
     "input": [
      "def generate_data_3D(\n",
      "        n,\n",
      "        p = 1.5,\n",
      "        seed = None):\n",
      "    assert(n % 2 == 0)\n",
      "    np.random.seed(seed)\n",
      "    a = np.zeros((n, n, n//2+1), dtype = np.complex)\n",
      "    a[:] = np.random.randn(*a.shape) + 1j*np.random.randn(*a.shape)\n",
      "    k, j, i = np.mgrid[-n//2+1:n//2+1, -n//2+1:n//2+1, 0:n//2+1]\n",
      "    k = np.roll(k, n//2+1, axis = 0)\n",
      "    j = np.roll(j, n//2+1, axis = 1)\n",
      "    kk = (k**2 + j**2 + i**2)**.5\n",
      "    a /= kk**p\n",
      "    a[0, :] = 0\n",
      "    a[:, 0] = 0\n",
      "    ii = np.where(kk == 0)\n",
      "    a[ii] = 0\n",
      "    ii = np.where(kk > n/3.)\n",
      "    a[ii] = 0\n",
      "    return np.fft.irfftn(a)\n",
      "\n",
      "f = generate_data_3D(32, p = 2)\n",
      "\n",
      "mlab.contour3d(f.T)\n",
      "mlab.show()"
     ],
     "language": "python",
     "metadata": {},
     "outputs": [],
     "prompt_number": 12
    },
    {
     "cell_type": "code",
     "collapsed": false,
     "input": [],
     "language": "python",
     "metadata": {},
     "outputs": []
    }
   ],
   "metadata": {}
  }
 ]
}