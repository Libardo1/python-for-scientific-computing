{
 "metadata": {
  "name": "",
  "signature": "sha256:4f721eb56d86555ca4438be298b4be3bd84b9ea9e2b8023f010b9a0190e1c113"
 },
 "nbformat": 3,
 "nbformat_minor": 0,
 "worksheets": [
  {
   "cells": [
    {
     "cell_type": "markdown",
     "metadata": {},
     "source": [
      "3D plotting"
     ]
    },
    {
     "cell_type": "code",
     "collapsed": false,
     "input": [
      "from mayavi import mlab"
     ],
     "language": "python",
     "metadata": {},
     "outputs": [
      {
       "output_type": "stream",
       "stream": "stderr",
       "text": [
        "WARNING:traits.has_traits:DEPRECATED: traits.has_traits.wrapped_class, 'the 'implements' class advisor has been deprecated. Use the 'provides' class decorator.\n"
       ]
      }
     ],
     "prompt_number": 1
    },
    {
     "cell_type": "code",
     "collapsed": false,
     "input": [
      "dir(mlab)"
     ],
     "language": "python",
     "metadata": {},
     "outputs": [
      {
       "metadata": {},
       "output_type": "pyout",
       "prompt_number": 2,
       "text": [
        "['ETSConfig',\n",
        " '__builtins__',\n",
        " '__doc__',\n",
        " '__file__',\n",
        " '__name__',\n",
        " '__package__',\n",
        " 'animate',\n",
        " 'axes',\n",
        " 'barchart',\n",
        " 'clf',\n",
        " 'close',\n",
        " 'colorbar',\n",
        " 'contour3d',\n",
        " 'contour_surf',\n",
        " 'draw',\n",
        " 'figure',\n",
        " 'flow',\n",
        " 'gcf',\n",
        " 'get_engine',\n",
        " 'imshow',\n",
        " 'mesh',\n",
        " 'move',\n",
        " 'options',\n",
        " 'orientation_axes',\n",
        " 'outline',\n",
        " 'pipeline',\n",
        " 'pitch',\n",
        " 'plot3d',\n",
        " 'points3d',\n",
        " 'quiver3d',\n",
        " 'roll',\n",
        " 'savefig',\n",
        " 'scalarbar',\n",
        " 'screenshot',\n",
        " 'set_engine',\n",
        " 'show',\n",
        " 'show_engine',\n",
        " 'show_pipeline',\n",
        " 'start_recording',\n",
        " 'stop_recording',\n",
        " 'surf',\n",
        " 'sync_camera',\n",
        " 'sys',\n",
        " 'test_barchart',\n",
        " 'test_contour3d',\n",
        " 'test_contour3d_anim',\n",
        " 'test_contour_surf',\n",
        " 'test_fancy_mesh',\n",
        " 'test_flow',\n",
        " 'test_flow_anim',\n",
        " 'test_imshow',\n",
        " 'test_mesh',\n",
        " 'test_mesh_sphere',\n",
        " 'test_mesh_sphere_anim',\n",
        " 'test_molecule',\n",
        " 'test_plot3d',\n",
        " 'test_plot3d_anim',\n",
        " 'test_points3d',\n",
        " 'test_points3d_anim',\n",
        " 'test_quiver3d',\n",
        " 'test_quiver3d_2d_data',\n",
        " 'test_simple_surf',\n",
        " 'test_simple_surf_anim',\n",
        " 'test_surf',\n",
        " 'test_triangular_mesh',\n",
        " 'text',\n",
        " 'text3d',\n",
        " 'title',\n",
        " 'triangular_mesh',\n",
        " 'vectorbar',\n",
        " 'view',\n",
        " 'wxversion',\n",
        " 'xlabel',\n",
        " 'yaw',\n",
        " 'ylabel',\n",
        " 'zlabel']"
       ]
      }
     ],
     "prompt_number": 2
    },
    {
     "cell_type": "code",
     "collapsed": false,
     "input": [
      "mlab.test_mesh()\n",
      "mlab.show()"
     ],
     "language": "python",
     "metadata": {},
     "outputs": [],
     "prompt_number": 3
    },
    {
     "cell_type": "code",
     "collapsed": false,
     "input": [
      "mlab.test_triangular_mesh()\n",
      "mlab.show()"
     ],
     "language": "python",
     "metadata": {},
     "outputs": [],
     "prompt_number": 4
    },
    {
     "cell_type": "code",
     "collapsed": false,
     "input": [
      "mlab.test_quiver3d()\n",
      "mlab.show()"
     ],
     "language": "python",
     "metadata": {},
     "outputs": [],
     "prompt_number": 5
    },
    {
     "cell_type": "code",
     "collapsed": false,
     "input": [
      "import numpy as np\n",
      "\n",
      "x = np.linspace(0, 2*np.pi, 128)\n",
      "\n",
      "f = (np.sin(  x[:, np.newaxis, np.newaxis]+3*x[np.newaxis, :, np.newaxis]) +\n",
      "     np.cos(2*x[np.newaxis, np.newaxis, :]+2*x[np.newaxis, :, np.newaxis]))\n",
      "\n",
      "mlab.contour3d(f.T)\n",
      "mlab.show()"
     ],
     "language": "python",
     "metadata": {},
     "outputs": [],
     "prompt_number": 6
    },
    {
     "cell_type": "code",
     "collapsed": false,
     "input": [
      "\n",
      "f = (np.sin(  x[:, np.newaxis, np.newaxis]+3*x[np.newaxis, :, np.newaxis]) +\n",
      "     np.cos(2*x[np.newaxis, np.newaxis, :]+2*x[np.newaxis, :, np.newaxis]))\n",
      "\n",
      "g = (np.sin(2*x[:, np.newaxis, np.newaxis]+3*x[np.newaxis, :, np.newaxis]) +\n",
      "     np.cos(  x[np.newaxis, np.newaxis, :]+2*x[np.newaxis, :, np.newaxis]))\n",
      "\n",
      "h = (np.sin(3*x[:, np.newaxis, np.newaxis]+  x[np.newaxis, :, np.newaxis]) +\n",
      "     np.cos(  x[np.newaxis, np.newaxis, :]+2*x[np.newaxis, :, np.newaxis]))\n",
      "\n",
      "#help(mlab.flow)\n",
      "mlab.flow(f, g, h)\n",
      "mlab.show()"
     ],
     "language": "python",
     "metadata": {},
     "outputs": [],
     "prompt_number": 7
    },
    {
     "cell_type": "code",
     "collapsed": false,
     "input": [
      "def generate_data_3D(\n",
      "        n,\n",
      "        p = 1.5,\n",
      "        seed = None):\n",
      "    assert(n % 2 == 0)\n",
      "    np.random.seed(seed)\n",
      "    a = np.zeros((n, n, n//2+1), dtype = np.complex)\n",
      "    a[:] = np.random.randn(*a.shape) + 1j*np.random.randn(*a.shape)\n",
      "    k, j, i = np.mgrid[-n//2+1:n//2+1, -n//2+1:n//2+1, 0:n//2+1]\n",
      "    k = np.roll(k, n//2+1, axis = 0)\n",
      "    j = np.roll(j, n//2+1, axis = 1)\n",
      "    kk = (k**2 + j**2 + i**2)**.5\n",
      "    a /= kk**p\n",
      "    a[0, :] = 0\n",
      "    a[:, 0] = 0\n",
      "    ii = np.where(kk == 0)\n",
      "    a[ii] = 0\n",
      "    ii = np.where(kk > n/3.)\n",
      "    a[ii] = 0\n",
      "    return np.fft.irfftn(a)\n",
      "\n",
      "f = generate_data_3D(32, p = 2)\n",
      "\n",
      "mlab.contour3d(f.T)\n",
      "mlab.show()"
     ],
     "language": "python",
     "metadata": {},
     "outputs": [],
     "prompt_number": 10
    },
    {
     "cell_type": "code",
     "collapsed": false,
     "input": [
      "import itertools\n",
      "points = itertools.product([0, 1], repeat = 3)\n",
      "for p in points:\n",
      "    print(p)\n",
      "    mlab.plot3d(np.array([0, p[0]]),\n",
      "                np.array([0, p[1]]),\n",
      "                np.array([0, p[2]]),\n",
      "                color = (1, 0, 0))\n",
      "mlab.show()"
     ],
     "language": "python",
     "metadata": {},
     "outputs": [
      {
       "output_type": "stream",
       "stream": "stdout",
       "text": [
        "(0, 0, 0)\n",
        "(0, 0, 1)"
       ]
      },
      {
       "output_type": "stream",
       "stream": "stdout",
       "text": [
        "\n",
        "(0, 1, 0)\n",
        "(0, 1, 1)\n",
        "(1, 0, 0)"
       ]
      },
      {
       "output_type": "stream",
       "stream": "stdout",
       "text": [
        "\n",
        "(1, 0, 1)\n",
        "(1, 1, 0)\n",
        "(1, 1, 1)\n"
       ]
      }
     ],
     "prompt_number": 14
    },
    {
     "cell_type": "markdown",
     "metadata": {},
     "source": [
      "Lorenz equations\n",
      "----------------\n",
      "\n",
      "\\begin{align}\n",
      "    \\frac{d}{dt} x &= \\sigma (y - x) \\\\\n",
      "    \\frac{d}{dt} y &= x (\\rho - z) - y \\\\\n",
      "    \\frac{d}{dt} z &= x y - \\beta z\n",
      "\\end{align}\n",
      "\n",
      "chaotic for\n",
      "\\begin{equation}\n",
      "    \\sigma = 10, \\beta = 8/3, \\rho = 28\n",
      "\\end{equation}"
     ]
    },
    {
     "cell_type": "code",
     "collapsed": false,
     "input": [
      "sigma = 10.\n",
      "beta  = 8./3\n",
      "rho   = 28.\n",
      "\n",
      "def lorenz_rhs(x):\n",
      "    return np.array([sigma * (x[1] - x[0]),\n",
      "                     x[0]*(rho - x[2]) - x[1],\n",
      "                     x[0]*x[1] - beta*x[2]])\n",
      "\n",
      "def Euler(rhs, dt = 0.5, N = 8, x0 = None):\n",
      "    x = np.zeros((N+1,) + x0.shape,\n",
      "                 dtype = x0.dtype)\n",
      "    x[0] = x0\n",
      "    for t in range(N):\n",
      "        x[t+1] = x[t] + dt*rhs(x[t])\n",
      "    return x\n",
      "\n",
      "def cRK(rhs, dt = 0.5, N = 8, x0 = None):\n",
      "    x = np.zeros((N+1,) + x0.shape,\n",
      "                 dtype = x0.dtype)\n",
      "    x[0] = x0\n",
      "    for t in range(N):\n",
      "        k1 = rhs(x[t])\n",
      "        k2 = rhs(x[t] + 0.5*dt*k1)\n",
      "        k3 = rhs(x[t] + 0.5*dt*k2)\n",
      "        k4 = rhs(x[t] + dt*k3)\n",
      "        x[t+1] = x[t] + dt*(k1 + 2*(k2 + k3) + k4)/6\n",
      "    return x\n",
      "\n",
      "lsol = cRK(lorenz_rhs,\n",
      "             dt = 2.**(-8),\n",
      "             N = 1024,\n",
      "             x0 = 10+np.random.random((3, 32)))\n",
      "\n",
      "for traj in range(32):\n",
      "    mlab.plot3d(lsol[:, 0, traj],\n",
      "                lsol[:, 1, traj],\n",
      "                lsol[:, 2, traj],\n",
      "                tube_radius = None,\n",
      "                color = (traj*1./32, 0, 1 - traj*1./32))\n",
      "mlab.show()"
     ],
     "language": "python",
     "metadata": {},
     "outputs": [],
     "prompt_number": 33
    },
    {
     "cell_type": "code",
     "collapsed": false,
     "input": [],
     "language": "python",
     "metadata": {},
     "outputs": []
    }
   ],
   "metadata": {}
  }
 ]
}