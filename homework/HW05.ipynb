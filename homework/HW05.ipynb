{
 "metadata": {
  "name": "",
  "signature": "sha256:97dbaf1fe7de4b0f2e1e4a103f069ffe9410706a30442e3811c33c2721c4b895"
 },
 "nbformat": 3,
 "nbformat_minor": 0,
 "worksheets": [
  {
   "cells": [
    {
     "cell_type": "markdown",
     "metadata": {},
     "source": [
      "A. Parallel projections again\n",
      "--------------------\n",
      "\n",
      "Please review the solutions to homework 2.\n",
      "Afterwards, write a code that will show a 3D projection of a 4D hypercube.\n",
      "Feel free to use any of the following code."
     ]
    },
    {
     "cell_type": "code",
     "collapsed": false,
     "input": [
      "import numpy as np\n",
      "from mayavi import mlab\n",
      "\n",
      "def get_neighbours(points, distance):\n",
      "    c = []\n",
      "    for i in range(points.shape[0]):\n",
      "        for j in range(points.shape[0]):\n",
      "            dist = np.sqrt(np.sum((points[i] - points[j])**2))\n",
      "            if (dist <= distance) and (i != j):\n",
      "                c.append([i, j])\n",
      "    return c\n",
      "\n",
      "def plot_segments(\n",
      "        points,\n",
      "        connections,\n",
      "        base_dim = 0.1,\n",
      "        line_width = 2):\n",
      "    src = mlab.pipeline.scalar_scatter(points[:, 0], points[:, 1], points[:, 2])\n",
      "    src.mlab_source.dataset.lines = np.array(list(connections))\n",
      "    lines = mlab.pipeline.stripper(src)\n",
      "    mlab.pipeline.surface(lines, line_width = line_width)\n",
      "    mlab.points3d(points[:, 0], points[:, 1], points[:, 2],\n",
      "                  scale_mode = 'none',\n",
      "                  scale_factor = base_dim)\n",
      "    return None"
     ],
     "language": "python",
     "metadata": {},
     "outputs": [
      {
       "output_type": "stream",
       "stream": "stderr",
       "text": [
        "WARNING:traits.has_traits:DEPRECATED: traits.has_traits.wrapped_class, 'the 'implements' class advisor has been deprecated. Use the 'provides' class decorator.\n"
       ]
      }
     ],
     "prompt_number": 1
    },
    {
     "cell_type": "code",
     "collapsed": false,
     "input": [
      "# example for 3D object\n",
      "import itertools\n",
      "vertices = []\n",
      "for v in itertools.product([-.5, .5], [-.5, .5], [-.5, .5, 1.5]):\n",
      "    vertices.append(np.array(v))\n",
      "vertices = np.array(vertices)\n",
      "\n",
      "c = get_neighbours(vertices, 1.1)\n",
      "plot_segments(vertices, c)\n",
      "mlab.show()"
     ],
     "language": "python",
     "metadata": {},
     "outputs": [],
     "prompt_number": 2
    },
    {
     "cell_type": "markdown",
     "metadata": {},
     "source": [
      "B. \"3D design\"\n",
      "--------------\n",
      "\n",
      "In the following code, a way to visualize a sphere is provided. Adapt it to visualize a cylinder. Afterwards, use several cylinders and whatever else you need to generate the rough shape of a chair."
     ]
    },
    {
     "cell_type": "code",
     "collapsed": false,
     "input": [
      "def get_circle(\n",
      "        radius = 1.,\n",
      "        resolution = 8,\n",
      "        orientation = 'z'):\n",
      "    phi = np.linspace(0, 2*np.pi, num = resolution, endpoint = False)\n",
      "    points = np.zeros((resolution, 3), dtype = np.float)\n",
      "    p0 = radius*np.cos(phi)\n",
      "    p1 = radius*np.sin(phi)\n",
      "    lines = set([(i, (i+1) % resolution) for i in range(resolution)])\n",
      "    if orientation == 'z':\n",
      "        points[:, 0] = p0\n",
      "        points[:, 1] = p1\n",
      "    elif orientation == 'x':\n",
      "        points[:, 1] = p0\n",
      "        points[:, 2] = p1\n",
      "    elif orientation == 'y':\n",
      "        points[:, 2] = p0\n",
      "        points[:, 0] = p1\n",
      "    return points, lines\n",
      "\n",
      "def get_sphere(\n",
      "        radius = 1.,\n",
      "        resolution = 8,\n",
      "        center = np.zeros(3, dtype = np.float)):\n",
      "    points = []\n",
      "    lines = []\n",
      "    z = np.linspace(-(radius - radius/resolution),\n",
      "                     (radius - radius/resolution),\n",
      "                     resolution)\n",
      "    n = 0\n",
      "    for zz in z:\n",
      "        p, l = get_circle(radius = np.sqrt(radius**2 - zz**2),\n",
      "                          resolution = resolution,\n",
      "                          orientation = 'z')\n",
      "        points.append(p + np.array([0., 0., zz]))\n",
      "        lines += [[i[0]+n, i[1]+n] for i in l]\n",
      "        n += resolution\n",
      "    for i in range(resolution):\n",
      "        for j in range(resolution-1):\n",
      "            lines.append([i+j*resolution, i + (j+1)*resolution])\n",
      "    return ((np.concatenate(points, axis = 0) +\n",
      "             center),\n",
      "            lines)\n",
      "\n",
      "v, c = get_sphere()\n",
      "\n",
      "plot_segments(v, c)\n",
      "mlab.show()"
     ],
     "language": "python",
     "metadata": {},
     "outputs": [],
     "prompt_number": 4
    },
    {
     "cell_type": "markdown",
     "metadata": {},
     "source": [
      "(no credit for this problem)\n",
      "\n",
      "C. 4D Hypersphere\n",
      "-----------------\n",
      "\n",
      "Generate the mesh spanning the (3D) boundary of a (4D) hypersphere, and display its projection onto some random hyperplane of 4D space."
     ]
    },
    {
     "cell_type": "code",
     "collapsed": false,
     "input": [],
     "language": "python",
     "metadata": {},
     "outputs": []
    }
   ],
   "metadata": {}
  }
 ]
}