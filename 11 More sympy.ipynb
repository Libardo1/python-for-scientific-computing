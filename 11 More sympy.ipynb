{
 "metadata": {
  "name": "",
  "signature": "sha256:fda571ef84aba7fd6208900ffb39c1157e545fbb45e680ef867487eeb7736a3b"
 },
 "nbformat": 3,
 "nbformat_minor": 0,
 "worksheets": [
  {
   "cells": [
    {
     "cell_type": "code",
     "collapsed": false,
     "input": [
      "import sympy as sp\n",
      "\n",
      "x = sp.Symbol('x')\n",
      "h = sp.Symbol('h')\n",
      "f = sp.Function('f')\n",
      "print(f(x))"
     ],
     "language": "python",
     "metadata": {},
     "outputs": [
      {
       "output_type": "stream",
       "stream": "stdout",
       "text": [
        "f(x)\n"
       ]
      }
     ],
     "prompt_number": 1
    },
    {
     "cell_type": "code",
     "collapsed": false,
     "input": [
      "def difft(e):\n",
      "    return e.diff(x)*f(x)\n",
      "\n",
      "x0 = x\n",
      "x1 = difft(x0)\n",
      "x2 = difft(x1)\n",
      "x3 = difft(x2)\n",
      "bla = x0 + x1*h + x2*h**2/2 + x3*h**3/6"
     ],
     "language": "python",
     "metadata": {},
     "outputs": [],
     "prompt_number": 2
    },
    {
     "cell_type": "code",
     "collapsed": false,
     "input": [
      "print(sp.latex(bla))"
     ],
     "language": "python",
     "metadata": {},
     "outputs": [
      {
       "output_type": "stream",
       "stream": "stdout",
       "text": [
        "\\frac{h^{3}}{6} \\left(f{\\left (x \\right )} \\frac{d^{2}}{d x^{2}}  f{\\left (x \\right )} + \\left(\\frac{d}{d x} f{\\left (x \\right )}\\right)^{2}\\right) f{\\left (x \\right )} + \\frac{h^{2}}{2} f{\\left (x \\right )} \\frac{d}{d x} f{\\left (x \\right )} + h f{\\left (x \\right )} + x\n"
       ]
      }
     ],
     "prompt_number": 3
    },
    {
     "cell_type": "markdown",
     "metadata": {},
     "source": [
      "Taylor expansion of an ODE solution, up to order 3 in $h$:\n",
      "\n",
      "\\begin{equation}\n",
      "x(t+h) \\approx \\frac{h^{3}}{6} \\left(f{\\left (x \\right )} \\frac{d^{2}}{d x^{2}}  f{\\left (x \\right )} + \\left(\\frac{d}{d x} f{\\left (x \\right )}\\right)^{2}\\right) f{\\left (x \\right )} + \\frac{h^{2}}{2} f{\\left (x \\right )} \\frac{d}{d x} f{\\left (x \\right )} + h f{\\left (x \\right )} + x\n",
      "\\end{equation}\n",
      "\n",
      "Note that this was constructed by applying the operator $f(x) \\frac{d}{dx}$ \"by hand\".\n",
      "Since it's only for the first 3 terms, this is acceptable.\n",
      "However, it would be nice to do it for any order.?"
     ]
    },
    {
     "cell_type": "code",
     "collapsed": false,
     "input": [
      "t = sp.Symbol('t')\n",
      "h = sp.Symbol('h')\n",
      "x = sp.Function('x')\n",
      "f = sp.Function('f')\n",
      "\n",
      "print(sp.latex(sp.series(x(t+h), x = h, x0 = 0, n = 4)))"
     ],
     "language": "python",
     "metadata": {},
     "outputs": [
      {
       "output_type": "stream",
       "stream": "stdout",
       "text": [
        "x{\\left (t \\right )} + h \\left. \\frac{d}{d \\xi_{1}} x{\\left (\\xi_{1} \\right )} \\right|_{\\substack{ \\xi_{1}=t }} + \\frac{h^{2}}{2} \\left. \\frac{d^{2}}{d \\xi_{1}^{2}}  x{\\left (\\xi_{1} \\right )} \\right|_{\\substack{ \\xi_{1}=t }} + \\frac{h^{3}}{6} \\left. \\frac{d^{3}}{d \\xi_{1}^{3}}  x{\\left (\\xi_{1} \\right )} \\right|_{\\substack{ \\xi_{1}=t }} + \\mathcal{O}\\left(h^{4}\\right)\n"
       ]
      }
     ],
     "prompt_number": 4
    },
    {
     "cell_type": "markdown",
     "metadata": {},
     "source": [
      "\\begin{equation}\n",
      "x{\\left (t \\right )} + h \\left. \\frac{d}{d \\xi_{1}} x{\\left (\\xi_{1} \\right )} \\right|_{\\substack{ \\xi_{1}=t }} + \\frac{h^{2}}{2} \\left. \\frac{d^{2}}{d \\xi_{1}^{2}}  x{\\left (\\xi_{1} \\right )} \\right|_{\\substack{ \\xi_{1}=t }} + \\frac{h^{3}}{6} \\left. \\frac{d^{3}}{d \\xi_{1}^{3}}  x{\\left (\\xi_{1} \\right )} \\right|_{\\substack{ \\xi_{1}=t }} + \\mathcal{O}\\left(h^{4}\\right)\n",
      "\\end{equation}\n",
      "\n",
      "This `sympy.series` functionality seems to be of use, even though the $\\frac{d}{dt}$ operator is not explicit in our ODE case.\n",
      "As usual, you can access the \"full\" documentation with `help`:"
     ]
    },
    {
     "cell_type": "code",
     "collapsed": false,
     "input": [
      "help(sp.Expr.series)"
     ],
     "language": "python",
     "metadata": {},
     "outputs": [
      {
       "output_type": "stream",
       "stream": "stdout",
       "text": [
        "Help on method series in module sympy.core.expr:\n",
        "\n",
        "series(self, x=None, x0=0, n=6, dir='+', logx=None) unbound sympy.core.expr.Expr method\n",
        "    Series expansion of \"self\" around ``x = x0`` yielding either terms of\n",
        "    the series one by one (the lazy series given when n=None), else\n",
        "    all the terms at once when n != None.\n",
        "    \n",
        "    Returns the series expansion of \"self\" around the point ``x = x0``\n",
        "    with respect to ``x`` up to ``O((x - x0)**n, x, x0)`` (default n is 6).\n",
        "    \n",
        "    If ``x=None`` and ``self`` is univariate, the univariate symbol will\n",
        "    be supplied, otherwise an error will be raised.\n",
        "    \n",
        "    >>> from sympy import cos, exp\n",
        "    >>> from sympy.abc import x, y\n",
        "    >>> cos(x).series()\n",
        "    1 - x**2/2 + x**4/24 + O(x**6)\n",
        "    >>> cos(x).series(n=4)\n",
        "    1 - x**2/2 + O(x**4)\n",
        "    >>> cos(x).series(x, x0=1, n=2)\n",
        "    cos(1) - (x - 1)*sin(1) + O((x - 1)**2, (x, 1))\n",
        "    >>> e = cos(x + exp(y))\n",
        "    >>> e.series(y, n=2)\n",
        "    cos(x + 1) - y*sin(x + 1) + O(y**2)\n",
        "    >>> e.series(x, n=2)\n",
        "    cos(exp(y)) - x*sin(exp(y)) + O(x**2)\n",
        "    \n",
        "    If ``n=None`` then a generator of the series terms will be returned.\n",
        "    \n",
        "    >>> term=cos(x).series(n=None)\n",
        "    >>> [next(term) for i in range(2)]\n",
        "    [1, -x**2/2]\n",
        "    \n",
        "    For ``dir=+`` (default) the series is calculated from the right and\n",
        "    for ``dir=-`` the series from the left. For smooth functions this\n",
        "    flag will not alter the results.\n",
        "    \n",
        "    >>> abs(x).series(dir=\"+\")\n",
        "    x\n",
        "    >>> abs(x).series(dir=\"-\")\n",
        "    -x\n",
        "\n"
       ]
      }
     ],
     "prompt_number": 5
    },
    {
     "cell_type": "markdown",
     "metadata": {},
     "source": [
      "Personally, I would not consider this fully informative, especially because there's a parameter that is not discussed at all (the `logx` thing).\n",
      "But it does give the information we need."
     ]
    },
    {
     "cell_type": "code",
     "collapsed": false,
     "input": [
      "t = sp.Symbol('t')\n",
      "h = sp.Symbol('h')\n",
      "x = sp.Function('x')\n",
      "f = sp.Function('f')\n",
      "\n",
      "\n",
      "# What follows is a function that will construct the Taylor expansion\n",
      "# for an ODE solution (i.e. a series in the timestep, with \"explicit\"\n",
      "# coefficients made from the right hand side and its derivatives).\n",
      "# This can easily be generalized to more dimensions if need be.\n",
      "def get_ode_series(\n",
      "        x, f, t, h, n = 3):\n",
      "    # when computing the terms of the series, we don't actually\n",
      "    # care about time dependency, since we already know how to\n",
      "    # apply the chain rule.\n",
      "    y = sp.Symbol('xi')\n",
      "    difflist = [y]\n",
      "    for i in range(1, n+1):\n",
      "        difflist.append(\n",
      "            (difflist[-1].diff(y)*f(y)))\n",
      "    # in the Taylor expansion, the temporary \"y\" is replaced with x(t)\n",
      "    return sum(difflist[i].subs(y, x(t))*(h**i)/sp.factorial(i)\n",
      "               for i in range(n+1))\n",
      "\n",
      "print(sp.latex(get_ode_series(x, f, t, h)))"
     ],
     "language": "python",
     "metadata": {},
     "outputs": [
      {
       "output_type": "stream",
       "stream": "stdout",
       "text": [
        "\\frac{h^{3}}{6} \\left(f{\\left (x{\\left (t \\right )} \\right )} \\left. \\frac{d^{2}}{d \\xi^{2}}  f{\\left (\\xi \\right )} \\right|_{\\substack{ \\xi=x{\\left (t \\right )} }} + \\left(\\left. \\frac{d}{d \\xi} f{\\left (\\xi \\right )} \\right|_{\\substack{ \\xi=x{\\left (t \\right )} }}\\right)^{2}\\right) f{\\left (x{\\left (t \\right )} \\right )} + \\frac{h^{2}}{2} f{\\left (x{\\left (t \\right )} \\right )} \\left. \\frac{d}{d \\xi} f{\\left (\\xi \\right )} \\right|_{\\substack{ \\xi=x{\\left (t \\right )} }} + h f{\\left (x{\\left (t \\right )} \\right )} + x{\\left (t \\right )}\n"
       ]
      }
     ],
     "prompt_number": 6
    },
    {
     "cell_type": "markdown",
     "metadata": {},
     "source": [
      "\\begin{equation}\n",
      "\\frac{h^{3}}{6} \\left(f{\\left (x{\\left (t \\right )} \\right )} \\left. \\frac{d^{2}}{d \\xi^{2}}  f{\\left (\\xi \\right )} \\right|_{\\substack{ \\xi=x{\\left (t \\right )} }} + \\left(\\left. \\frac{d}{d \\xi} f{\\left (\\xi \\right )} \\right|_{\\substack{ \\xi=x{\\left (t \\right )} }}\\right)^{2}\\right) f{\\left (x{\\left (t \\right )} \\right )} + \\frac{h^{2}}{2} f{\\left (x{\\left (t \\right )} \\right )} \\left. \\frac{d}{d \\xi} f{\\left (\\xi \\right )} \\right|_{\\substack{ \\xi=x{\\left (t \\right )} }} + h f{\\left (x{\\left (t \\right )} \\right )} + x{\\left (t \\right )}\n",
      "\\end{equation}"
     ]
    },
    {
     "cell_type": "code",
     "collapsed": false,
     "input": [
      "# Once we can construct the Taylor series up to any order,\n",
      "# we can start playing with ODE solvers.\n",
      "# As long as the solver is not too complicated, we can use sympy to check\n",
      "# that a solver has a certain order.\n",
      "\n",
      "def Euler_spec(x0, f, dt):\n",
      "    return x0 + f(x0)*dt\n",
      "\n",
      "def get_solver_error(\n",
      "        solver,\n",
      "        x, f, t, h, n = 3):\n",
      "    y = solver(x(t), f, h)\n",
      "    s1 = get_ode_series(x, f, t, h, n)\n",
      "    # sympy will do all the hard work for us when we call the \"series\"\n",
      "    # method; since y is an expression, this is the exact function for\n",
      "    # which we called help earlier.\n",
      "    s2 = y.series(x = h, x0 = 0, n = n)\n",
      "    return sp.simplify(s1 - s2)"
     ],
     "language": "python",
     "metadata": {},
     "outputs": [],
     "prompt_number": 7
    },
    {
     "cell_type": "code",
     "collapsed": false,
     "input": [
      "# here's what the error term looks like for the Euler method:\n",
      "print(sp.latex(get_solver_error(Euler_spec, x, f, t, h, n = 2)))"
     ],
     "language": "python",
     "metadata": {},
     "outputs": [
      {
       "output_type": "stream",
       "stream": "stdout",
       "text": [
        "\\frac{h^{2}}{2} f{\\left (x{\\left (t \\right )} \\right )} \\left. \\frac{d}{d \\xi} f{\\left (\\xi \\right )} \\right|_{\\substack{ \\xi=x{\\left (t \\right )} }}\n"
       ]
      }
     ],
     "prompt_number": 8
    },
    {
     "cell_type": "markdown",
     "metadata": {},
     "source": [
      "$$\n",
      "\\frac{h^{2}}{2} f{\\left (x{\\left (t \\right )} \\right )} \\left. \\frac{d}{d \\xi} f{\\left (\\xi \\right )} \\right|_{\\substack{ \\xi=x{\\left (t \\right )} }}\n",
      "$$"
     ]
    },
    {
     "cell_type": "code",
     "collapsed": false,
     "input": [
      "# But we're actually only interested in the order of the error term,\n",
      "# and sympy has a function that will give us that:\n",
      "print(sp.Order(get_solver_error(Euler_spec, x, f, t, h, n = 3), (h,0)))"
     ],
     "language": "python",
     "metadata": {},
     "outputs": [
      {
       "output_type": "stream",
       "stream": "stdout",
       "text": [
        "O(h**2)\n"
       ]
      }
     ],
     "prompt_number": 9
    },
    {
     "cell_type": "code",
     "collapsed": false,
     "input": [
      "# The Heun method is a second order method.\n",
      "# and we can now \"check\"\n",
      "def Heun_spec(x0, f, dt):\n",
      "    y = x0 + dt*f(x0)\n",
      "    return x0 + (f(x0) + f(y))*dt/2\n",
      "\n",
      "def Taylor2_spec(x0, f, dt):\n",
      "    return x0 + dt*f(x0) + f(x0)*f(x0).diff(x0)*dt**2/2\n",
      "\n",
      "print(sp.Order(get_solver_error(Heun_spec, x, f, t, h, n = 4), (h,0)))\n",
      "print(sp.Order(get_solver_error(Taylor2_spec, x, f, t, h, n = 4), (h,0)))\n",
      "\n",
      "# By the way, I have no idea why that factor of 2 is carried over;\n",
      "# I guess we can simply ignore it for now."
     ],
     "language": "python",
     "metadata": {},
     "outputs": [
      {
       "output_type": "stream",
       "stream": "stdout",
       "text": [
        "O(2*h**3)\n",
        "O(h**3)"
       ]
      },
      {
       "output_type": "stream",
       "stream": "stdout",
       "text": [
        "\n"
       ]
      }
     ],
     "prompt_number": 10
    },
    {
     "cell_type": "code",
     "collapsed": false,
     "input": [
      "# one step of classic Runge Kutta has an order 5 error:\n",
      "\n",
      "def cRK_spec(x0, f, dt):\n",
      "    k1 = f(x0)\n",
      "    k2 = f(x0 + dt*k1/2)\n",
      "    k3 = f(x0 + dt*k2/2)\n",
      "    k4 = f(x0 + dt*k3)\n",
      "    return x0 + (k1 + 2*(k2 + k3) + k4)*dt/6\n",
      "\n",
      "print(sp.Order(get_solver_error(cRK_spec, x, f, t, h, n = 7), (h,0)))"
     ],
     "language": "python",
     "metadata": {},
     "outputs": [
      {
       "output_type": "stream",
       "stream": "stdout",
       "text": [
        "O(5*h**5)\n"
       ]
      }
     ],
     "prompt_number": 11
    },
    {
     "cell_type": "code",
     "collapsed": false,
     "input": [
      "# at https://en.wikipedia.org/wiki/List_of_Runge%E2%80%93Kutta_methods#Explicit_methods\n",
      "# you can find a whole bunch of parameters for Runge Kutta methods.\n",
      "# we might as well have a specific way of checking their error terms\n",
      "def explicitRK(x0, f, dt,\n",
      "              c = [0],\n",
      "              b = [1],\n",
      "              a = [[]]):\n",
      "    k = [f(x0)]\n",
      "    for i in range(1,len(c)):\n",
      "        k.append(f(x0 + dt*sum(k[j]*a[i][j]\n",
      "                               for j in range(len(a[i])))))\n",
      "    return x0 + dt*sum(k[i]*b[i] for i in range(len(b)))\n",
      "\n",
      "def get_eRK_error(\n",
      "        params,\n",
      "        x, f, t, h, n = 3):\n",
      "    y = explicitRK(x(t), f, h, params[0], params[1], params[2])\n",
      "    s1 = get_ode_series(x, f, t, h, n)\n",
      "    s2 = y.series(x = h, x0 = 0, n = n)\n",
      "    return sp.simplify(s1 - s2)\n",
      "\n",
      "# and here's the error for Euler:\n",
      "print(sp.Order(get_eRK_error(([0], [1], [[]]),\n",
      "                             x, f, t, h, n = 5),\n",
      "               (h,0)))"
     ],
     "language": "python",
     "metadata": {},
     "outputs": [
      {
       "output_type": "stream",
       "stream": "stdout",
       "text": [
        "O(h**2)\n"
       ]
      }
     ],
     "prompt_number": 12
    },
    {
     "cell_type": "code",
     "collapsed": false,
     "input": [
      "def get_order(\n",
      "        c = [],\n",
      "        b = [],\n",
      "        a = [],\n",
      "        n = 4):\n",
      "    t = sp.Symbol('t')\n",
      "    h = sp.Symbol('h')\n",
      "    x = sp.Function('x')\n",
      "    f = sp.Function('f')\n",
      "    bla = get_eRK_error((c, b, a),\n",
      "                         x, f, t, h,\n",
      "                         n = n)\n",
      "    return sp.Order(bla, (h,0))\n",
      "\n",
      "# Here's the error for the \"Explicit midpoint method\"\n",
      "print(get_order(\n",
      "        c = [sp.Rational(0, 1),\n",
      "             sp.Rational(1, 2)],\n",
      "        b = [sp.Rational(0, 1),\n",
      "             sp.Rational(1, 1)],\n",
      "        a = [[],\n",
      "             [sp.Rational(1, 2)]]))"
     ],
     "language": "python",
     "metadata": {},
     "outputs": [
      {
       "output_type": "stream",
       "stream": "stdout",
       "text": [
        "O(2*h**3)\n"
       ]
      }
     ],
     "prompt_number": 13
    },
    {
     "cell_type": "code",
     "collapsed": false,
     "input": [
      "# Error for \"Kutta's third-order method\"\n",
      "print(get_order(\n",
      "        c = [sp.Rational(0, 1),\n",
      "             sp.Rational(1, 2),\n",
      "             sp.Rational(1, 1)],\n",
      "        b = [sp.Rational(1, 6),\n",
      "             sp.Rational(2, 3),\n",
      "             sp.Rational(1, 6)],\n",
      "        a = [[],\n",
      "             [sp.Rational(1, 2)],\n",
      "             [sp.Rational(-1, 1), sp.Rational(2, 1)]],\n",
      "        n = 6))"
     ],
     "language": "python",
     "metadata": {},
     "outputs": [
      {
       "output_type": "stream",
       "stream": "stdout",
       "text": [
        "O(2*h**4)\n"
       ]
      }
     ],
     "prompt_number": 15
    },
    {
     "cell_type": "code",
     "collapsed": false,
     "input": [],
     "language": "python",
     "metadata": {},
     "outputs": []
    }
   ],
   "metadata": {}
  }
 ]
}