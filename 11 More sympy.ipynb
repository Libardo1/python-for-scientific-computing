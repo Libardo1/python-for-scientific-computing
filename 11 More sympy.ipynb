{
 "metadata": {
  "name": "",
  "signature": "sha256:5d7be7d1976f332d82fc243f062a9d0d1554e80ee81c9f7d10b1a9f4a4e86756"
 },
 "nbformat": 3,
 "nbformat_minor": 0,
 "worksheets": [
  {
   "cells": [
    {
     "cell_type": "markdown",
     "metadata": {},
     "source": [
      "Taylor expansions for ODEs and ODE methods\n",
      "------------------------------------------\n",
      "\n",
      "In the following, a method of automatically checking that some given algorithm is indeed an integration method of a certain order is given.\n",
      "This is only for the purpose of discussing `sympy`; much better methods are available for proving that certain methods have various properties.\n",
      "\n",
      "Additional comment: while you are encouraged to use `sympy` or similar tools for making quick studies of certain problems, please be aware that, as any software package, `sympy` and similar tools almost certainly have bugs somewhere, and you should always have a way to verify the results that you get from your code."
     ]
    },
    {
     "cell_type": "code",
     "collapsed": false,
     "input": [
      "from IPython.display import display\n",
      "from sympy.interactive import init_session\n",
      "init_session()\n",
      "import sympy as sp\n",
      "\n",
      "x = sp.Symbol('x')\n",
      "h = sp.Symbol('h')\n",
      "f = sp.Function('f')\n",
      "print(f(x))"
     ],
     "language": "python",
     "metadata": {},
     "outputs": [
      {
       "output_type": "stream",
       "stream": "stdout",
       "text": [
        "IPython console for SymPy 0.7.6 (Python 2.7.6-64-bit) (ground types: python)\n",
        "\n",
        "These commands were executed:\n",
        ">>> from __future__ import division\n",
        ">>> from sympy import *\n",
        ">>> x, y, z, t = symbols('x y z t')\n",
        ">>> k, m, n = symbols('k m n', integer=True)\n",
        ">>> f, g, h = symbols('f g h', cls=Function)\n",
        ">>> init_printing()\n",
        "\n",
        "Documentation can be found at http://www.sympy.org\n",
        "f(x)\n"
       ]
      }
     ],
     "prompt_number": 1
    },
    {
     "cell_type": "code",
     "collapsed": false,
     "input": [
      "def difft(e):\n",
      "    return e.diff(x)*f(x)\n",
      "\n",
      "x0 = x\n",
      "x1 = difft(x0)\n",
      "x2 = difft(x1)\n",
      "x3 = difft(x2)\n",
      "bla = x0 + x1*h + x2*h**2/2 + x3*h**3/6"
     ],
     "language": "python",
     "metadata": {},
     "outputs": [],
     "prompt_number": 2
    },
    {
     "cell_type": "code",
     "collapsed": false,
     "input": [
      "print(sp.latex(bla))"
     ],
     "language": "python",
     "metadata": {},
     "outputs": [
      {
       "output_type": "stream",
       "stream": "stdout",
       "text": [
        "\\frac{h^{3}}{6} \\left(f{\\left (x \\right )} \\frac{d^{2}}{d x^{2}}  f{\\left (x \\right )} + \\left(\\frac{d}{d x} f{\\left (x \\right )}\\right)^{2}\\right) f{\\left (x \\right )} + \\frac{h^{2}}{2} f{\\left (x \\right )} \\frac{d}{d x} f{\\left (x \\right )} + h f{\\left (x \\right )} + x\n"
       ]
      }
     ],
     "prompt_number": 3
    },
    {
     "cell_type": "markdown",
     "metadata": {},
     "source": [
      "Taylor expansion of an ODE solution, up to order 3 in $h$:\n",
      "\n",
      "\\begin{equation}\n",
      "x(t+h) \\approx \\frac{h^{3}}{6} \\left(f{\\left (x \\right )} \\frac{d^{2}}{d x^{2}}  f{\\left (x \\right )} + \\left(\\frac{d}{d x} f{\\left (x \\right )}\\right)^{2}\\right) f{\\left (x \\right )} + \\frac{h^{2}}{2} f{\\left (x \\right )} \\frac{d}{d x} f{\\left (x \\right )} + h f{\\left (x \\right )} + x\n",
      "\\end{equation}\n",
      "\n",
      "Note that this was constructed by applying the operator $f(x) \\frac{d}{dx}$ \"by hand\".\n",
      "Since it's only for the first 3 terms, this is acceptable.\n",
      "However, it would be nice to do it for any order.?"
     ]
    },
    {
     "cell_type": "code",
     "collapsed": false,
     "input": [
      "t = sp.Symbol('t')\n",
      "h = sp.Symbol('h')\n",
      "x = sp.Function('x')\n",
      "f = sp.Function('f')\n",
      "\n",
      "print(sp.latex(sp.series(x(t+h), x = h, x0 = 0, n = 4)))"
     ],
     "language": "python",
     "metadata": {},
     "outputs": [
      {
       "output_type": "stream",
       "stream": "stdout",
       "text": [
        "x{\\left (t \\right )} + h \\left. \\frac{d}{d \\xi_{1}} x{\\left (\\xi_{1} \\right )} \\right|_{\\substack{ \\xi_{1}=t }} + \\frac{h^{2}}{2} \\left. \\frac{d^{2}}{d \\xi_{1}^{2}}  x{\\left (\\xi_{1} \\right )} \\right|_{\\substack{ \\xi_{1}=t }} + \\frac{h^{3}}{6} \\left. \\frac{d^{3}}{d \\xi_{1}^{3}}  x{\\left (\\xi_{1} \\right )} \\right|_{\\substack{ \\xi_{1}=t }} + \\mathcal{O}\\left(h^{4}\\right)\n"
       ]
      }
     ],
     "prompt_number": 4
    },
    {
     "cell_type": "markdown",
     "metadata": {},
     "source": [
      "\\begin{equation}\n",
      "x{\\left (t \\right )} + h \\left. \\frac{d}{d \\xi_{1}} x{\\left (\\xi_{1} \\right )} \\right|_{\\substack{ \\xi_{1}=t }} + \\frac{h^{2}}{2} \\left. \\frac{d^{2}}{d \\xi_{1}^{2}}  x{\\left (\\xi_{1} \\right )} \\right|_{\\substack{ \\xi_{1}=t }} + \\frac{h^{3}}{6} \\left. \\frac{d^{3}}{d \\xi_{1}^{3}}  x{\\left (\\xi_{1} \\right )} \\right|_{\\substack{ \\xi_{1}=t }} + \\mathcal{O}\\left(h^{4}\\right)\n",
      "\\end{equation}\n",
      "\n",
      "This `sympy.series` functionality seems to be of use, even though the $\\frac{d}{dt}$ operator is not explicit in our ODE case.\n",
      "As usual, you can access the \"full\" documentation with `help`:"
     ]
    },
    {
     "cell_type": "code",
     "collapsed": false,
     "input": [
      "help(sp.Expr.series)"
     ],
     "language": "python",
     "metadata": {},
     "outputs": [
      {
       "output_type": "stream",
       "stream": "stdout",
       "text": [
        "Help on method series in module sympy.core.expr:\n",
        "\n",
        "series(self, x=None, x0=0, n=6, dir='+', logx=None) unbound sympy.core.expr.Expr method\n",
        "    Series expansion of \"self\" around ``x = x0`` yielding either terms of\n",
        "    the series one by one (the lazy series given when n=None), else\n",
        "    all the terms at once when n != None.\n",
        "    \n",
        "    Returns the series expansion of \"self\" around the point ``x = x0``\n",
        "    with respect to ``x`` up to ``O((x - x0)**n, x, x0)`` (default n is 6).\n",
        "    \n",
        "    If ``x=None`` and ``self`` is univariate, the univariate symbol will\n",
        "    be supplied, otherwise an error will be raised.\n",
        "    \n",
        "    >>> from sympy import cos, exp\n",
        "    >>> from sympy.abc import x, y\n",
        "    >>> cos(x).series()\n",
        "    1 - x**2/2 + x**4/24 + O(x**6)\n",
        "    >>> cos(x).series(n=4)\n",
        "    1 - x**2/2 + O(x**4)\n",
        "    >>> cos(x).series(x, x0=1, n=2)\n",
        "    cos(1) - (x - 1)*sin(1) + O((x - 1)**2, (x, 1))\n",
        "    >>> e = cos(x + exp(y))\n",
        "    >>> e.series(y, n=2)\n",
        "    cos(x + 1) - y*sin(x + 1) + O(y**2)\n",
        "    >>> e.series(x, n=2)\n",
        "    cos(exp(y)) - x*sin(exp(y)) + O(x**2)\n",
        "    \n",
        "    If ``n=None`` then a generator of the series terms will be returned.\n",
        "    \n",
        "    >>> term=cos(x).series(n=None)\n",
        "    >>> [next(term) for i in range(2)]\n",
        "    [1, -x**2/2]\n",
        "    \n",
        "    For ``dir=+`` (default) the series is calculated from the right and\n",
        "    for ``dir=-`` the series from the left. For smooth functions this\n",
        "    flag will not alter the results.\n",
        "    \n",
        "    >>> abs(x).series(dir=\"+\")\n",
        "    x\n",
        "    >>> abs(x).series(dir=\"-\")\n",
        "    -x\n",
        "\n"
       ]
      }
     ],
     "prompt_number": 5
    },
    {
     "cell_type": "markdown",
     "metadata": {},
     "source": [
      "Personally, I would not consider this fully informative, especially because there's a parameter that is not discussed at all (the `logx` thing).\n",
      "But it does give the information we need."
     ]
    },
    {
     "cell_type": "code",
     "collapsed": false,
     "input": [
      "t = sp.Symbol('t')\n",
      "h = sp.Symbol('h')\n",
      "x = sp.Function('x')\n",
      "f = sp.Function('f')\n",
      "\n",
      "\n",
      "# What follows is a function that will construct the Taylor expansion\n",
      "# for an ODE solution (i.e. a series in the timestep, with \"explicit\"\n",
      "# coefficients made from the right hand side and its derivatives).\n",
      "# This can easily be generalized to more dimensions if need be.\n",
      "def get_ode_series(\n",
      "        x, f, t, h, n = 3):\n",
      "    # when computing the terms of the series, we don't actually\n",
      "    # care about time dependency, since we already know how to\n",
      "    # apply the chain rule.\n",
      "    y = sp.Symbol('xi')\n",
      "    difflist = [y]\n",
      "    for i in range(1, n+1):\n",
      "        difflist.append(\n",
      "            (difflist[-1].diff(y)*f(y)))\n",
      "    # in the Taylor expansion, the temporary \"y\" is replaced with x(t)\n",
      "    return sum(difflist[i].subs(y, x(t))*(h**i)/sp.factorial(i)\n",
      "               for i in range(n+1))\n",
      "\n",
      "get_ode_series(x, f, t, h)"
     ],
     "language": "python",
     "metadata": {},
     "outputs": [
      {
       "latex": [
        "$$\\frac{h^{3}}{6} \\left(f{\\left (x{\\left (t \\right )} \\right )} \\left. \\frac{d^{2}}{d \\xi^{2}}  f{\\left (\\xi \\right )} \\right|_{\\substack{ \\xi=x{\\left (t \\right )} }} + \\left(\\left. \\frac{d}{d \\xi} f{\\left (\\xi \\right )} \\right|_{\\substack{ \\xi=x{\\left (t \\right )} }}\\right)^{2}\\right) f{\\left (x{\\left (t \\right )} \\right )} + \\frac{h^{2}}{2} f{\\left (x{\\left (t \\right )} \\right )} \\left. \\frac{d}{d \\xi} f{\\left (\\xi \\right )} \\right|_{\\substack{ \\xi=x{\\left (t \\right )} }} + h f{\\left (x{\\left (t \\right )} \\right )} + x{\\left (t \\right )}$$"
       ],
       "metadata": {},
       "output_type": "pyout",
       "png": "[encoded data removed]",
       "prompt_number": 6,
       "text": [
        "   \u239b        \u239b  2      \u239e\u2502                          2\u239e                          \n",
        " 3 \u239c        \u239c d       \u239f\u2502         \u239bd       \u239e\u2502       \u239f                          \n",
        "h \u22c5\u239cf(x(t))\u22c5\u239c\u2500\u2500\u2500(f(\u03be))\u239f\u2502       + \u239c\u2500\u2500(f(\u03be))\u239f\u2502       \u239f\u22c5f(x(t))    2         \u239bd  \n",
        "   \u239c        \u239c  2      \u239f\u2502         \u239dd\u03be      \u23a0\u2502\u03be=x(t) \u239f           h \u22c5f(x(t))\u22c5\u239c\u2500\u2500(\n",
        "   \u239d        \u239dd\u03be       \u23a0\u2502\u03be=x(t)                     \u23a0                      \u239dd\u03be \n",
        "\u2500\u2500\u2500\u2500\u2500\u2500\u2500\u2500\u2500\u2500\u2500\u2500\u2500\u2500\u2500\u2500\u2500\u2500\u2500\u2500\u2500\u2500\u2500\u2500\u2500\u2500\u2500\u2500\u2500\u2500\u2500\u2500\u2500\u2500\u2500\u2500\u2500\u2500\u2500\u2500\u2500\u2500\u2500\u2500\u2500\u2500\u2500\u2500\u2500\u2500\u2500\u2500\u2500\u2500\u2500\u2500\u2500\u2500\u2500\u2500 + \u2500\u2500\u2500\u2500\u2500\u2500\u2500\u2500\u2500\u2500\u2500\u2500\u2500\u2500\u2500\n",
        "                             6                                              2 \n",
        "\n",
        "                                \n",
        "                                \n",
        "     \u239e\u2502                         \n",
        "f(\u03be))\u239f\u2502                         \n",
        "     \u23a0\u2502\u03be=x(t)                   \n",
        "\u2500\u2500\u2500\u2500\u2500\u2500\u2500\u2500\u2500\u2500\u2500\u2500\u2500 + h\u22c5f(x(t)) + x(t)\n",
        "                                "
       ]
      }
     ],
     "prompt_number": 6
    },
    {
     "cell_type": "code",
     "collapsed": false,
     "input": [
      "# Once we can construct the Taylor series up to any order,\n",
      "# we can start playing with ODE solvers.\n",
      "# As long as the solver is not too complicated, we can use sympy to check\n",
      "# that a solver has a certain order.\n",
      "\n",
      "def Euler_spec(x0, f, dt):\n",
      "    return x0 + f(x0)*dt\n",
      "\n",
      "def get_solver_error(\n",
      "        solver,\n",
      "        x, f, t, h, n = 3):\n",
      "    y = solver(x(t), f, h)\n",
      "    s1 = get_ode_series(x, f, t, h, n)\n",
      "    # sympy will do all the hard work for us when we call the \"series\"\n",
      "    # method; since y is an expression, this is the exact function for\n",
      "    # which we called help earlier.\n",
      "    s2 = y.series(x = h, x0 = 0, n = n)\n",
      "    return sp.simplify(s1 - s2)"
     ],
     "language": "python",
     "metadata": {},
     "outputs": [],
     "prompt_number": 7
    },
    {
     "cell_type": "code",
     "collapsed": false,
     "input": [
      "# here's what the error term looks like for the Euler method:\n",
      "get_solver_error(Euler_spec, x, f, t, h, n = 2)"
     ],
     "language": "python",
     "metadata": {},
     "outputs": [
      {
       "latex": [
        "$$\\frac{h^{2}}{2} f{\\left (x{\\left (t \\right )} \\right )} \\left. \\frac{d}{d \\xi} f{\\left (\\xi \\right )} \\right|_{\\substack{ \\xi=x{\\left (t \\right )} }}$$"
       ],
       "metadata": {},
       "output_type": "pyout",
       "png": "[encoded data removed]",
       "prompt_number": 8,
       "text": [
        " 2         \u239bd       \u239e\u2502      \n",
        "h \u22c5f(x(t))\u22c5\u239c\u2500\u2500(f(\u03be))\u239f\u2502      \n",
        "           \u239dd\u03be      \u23a0\u2502\u03be=x(t)\n",
        "\u2500\u2500\u2500\u2500\u2500\u2500\u2500\u2500\u2500\u2500\u2500\u2500\u2500\u2500\u2500\u2500\u2500\u2500\u2500\u2500\u2500\u2500\u2500\u2500\u2500\u2500\u2500\u2500\n",
        "             2              "
       ]
      }
     ],
     "prompt_number": 8
    },
    {
     "cell_type": "code",
     "collapsed": false,
     "input": [
      "# But we're actually only interested in the order of the error term,\n",
      "# and sympy has a function that will give us that:\n",
      "sp.Order(get_solver_error(Euler_spec, x, f, t, h, n = 3), (h,0))"
     ],
     "language": "python",
     "metadata": {},
     "outputs": [
      {
       "latex": [
        "$$\\mathcal{O}\\left(h^{2}\\right)$$"
       ],
       "metadata": {},
       "output_type": "pyout",
       "png": "[encoded data removed]",
       "prompt_number": 9,
       "text": [
        " \u239b 2\u239e\n",
        "O\u239dh \u23a0"
       ]
      }
     ],
     "prompt_number": 9
    },
    {
     "cell_type": "code",
     "collapsed": false,
     "input": [
      "# The Heun method is a second order method.\n",
      "# and we can now \"check\"\n",
      "def Heun_spec(x0, f, dt):\n",
      "    y = x0 + dt*f(x0)\n",
      "    return x0 + (f(x0) + f(y))*dt/2\n",
      "\n",
      "sp.Order(get_solver_error(Heun_spec, x, f, t, h, n = 4), (h,0))\n",
      "# By the way, I have no idea why that factor of 2 is carried over;\n",
      "# I guess we can simply ignore it for now."
     ],
     "language": "python",
     "metadata": {},
     "outputs": [
      {
       "latex": [
        "$$\\mathcal{O}\\left(2 h^{3}\\right)$$"
       ],
       "metadata": {},
       "output_type": "pyout",
       "png": "[encoded data removed]",
       "prompt_number": 10,
       "text": [
        " \u239b   3\u239e\n",
        "O\u239d2\u22c5h \u23a0"
       ]
      }
     ],
     "prompt_number": 10
    },
    {
     "cell_type": "code",
     "collapsed": false,
     "input": [
      "def Taylor2_spec(x0, f, dt):\n",
      "    return x0 + dt*f(x0) + f(x0)*f(x0).diff(x0)*dt**2/2\n",
      "sp.Order(get_solver_error(Taylor2_spec, x, f, t, h, n = 4), (h,0))"
     ],
     "language": "python",
     "metadata": {},
     "outputs": [
      {
       "latex": [
        "$$\\mathcal{O}\\left(h^{3}\\right)$$"
       ],
       "metadata": {},
       "output_type": "pyout",
       "png": "[encoded data removed]",
       "prompt_number": 11,
       "text": [
        " \u239b 3\u239e\n",
        "O\u239dh \u23a0"
       ]
      }
     ],
     "prompt_number": 11
    },
    {
     "cell_type": "code",
     "collapsed": false,
     "input": [
      "# one step of classic Runge Kutta has an order 5 error:\n",
      "\n",
      "def cRK_spec(x0, f, dt):\n",
      "    k1 = f(x0)\n",
      "    k2 = f(x0 + dt*k1/2)\n",
      "    k3 = f(x0 + dt*k2/2)\n",
      "    k4 = f(x0 + dt*k3)\n",
      "    return x0 + (k1 + 2*(k2 + k3) + k4)*dt/6\n",
      "\n",
      "sp.Order(get_solver_error(cRK_spec, x, f, t, h, n = 7), (h,0))"
     ],
     "language": "python",
     "metadata": {},
     "outputs": [
      {
       "latex": [
        "$$\\mathcal{O}\\left(5 h^{5}\\right)$$"
       ],
       "metadata": {},
       "output_type": "pyout",
       "png": "[encoded data removed]",
       "prompt_number": 12,
       "text": [
        " \u239b   5\u239e\n",
        "O\u239d5\u22c5h \u23a0"
       ]
      }
     ],
     "prompt_number": 12
    },
    {
     "cell_type": "code",
     "collapsed": false,
     "input": [
      "# at https://en.wikipedia.org/wiki/List_of_Runge%E2%80%93Kutta_methods#Explicit_methods\n",
      "# you can find a whole bunch of parameters for Runge Kutta methods.\n",
      "# we might as well have a specific way of checking their error terms\n",
      "def explicitRK(x0, f, dt,\n",
      "              c = [0],\n",
      "              b = [1],\n",
      "              a = [[]]):\n",
      "    k = [f(x0)]\n",
      "    for i in range(1,len(c)):\n",
      "        k.append(f(x0 + dt*sum(k[j]*a[i][j]\n",
      "                               for j in range(len(a[i])))))\n",
      "    return x0 + dt*sum(k[i]*b[i] for i in range(len(b)))\n",
      "\n",
      "def get_eRK_error(\n",
      "        params,\n",
      "        x, f, t, h, n = 3):\n",
      "    y = explicitRK(x(t), f, h, params[0], params[1], params[2])\n",
      "    s1 = get_ode_series(x, f, t, h, n)\n",
      "    s2 = y.series(x = h, x0 = 0, n = n)\n",
      "    return sp.simplify(s1 - s2)\n",
      "\n",
      "# and here's the error for Euler:\n",
      "sp.Order(get_eRK_error(([0], [1], [[]]),\n",
      "                       x, f, t, h, n = 5),\n",
      "         (h,0))"
     ],
     "language": "python",
     "metadata": {},
     "outputs": [
      {
       "latex": [
        "$$\\mathcal{O}\\left(h^{2}\\right)$$"
       ],
       "metadata": {},
       "output_type": "pyout",
       "png": "[encoded data removed]",
       "prompt_number": 13,
       "text": [
        " \u239b 2\u239e\n",
        "O\u239dh \u23a0"
       ]
      }
     ],
     "prompt_number": 13
    },
    {
     "cell_type": "code",
     "collapsed": false,
     "input": [
      "def get_order(\n",
      "        c = [],\n",
      "        b = [],\n",
      "        a = [],\n",
      "        n = 4):\n",
      "    t = sp.Symbol('t')\n",
      "    h = sp.Symbol('h')\n",
      "    x = sp.Function('x')\n",
      "    f = sp.Function('f')\n",
      "    bla = get_eRK_error((c, b, a),\n",
      "                         x, f, t, h,\n",
      "                         n = n)\n",
      "    return sp.Order(bla, (h,0))\n",
      "\n",
      "# Here's the error for the \"Explicit midpoint method\"\n",
      "get_order(\n",
      "        c = [sp.Rational(0, 1),\n",
      "             sp.Rational(1, 2)],\n",
      "        b = [sp.Rational(0, 1),\n",
      "             sp.Rational(1, 1)],\n",
      "        a = [[],\n",
      "             [sp.Rational(1, 2)]])"
     ],
     "language": "python",
     "metadata": {},
     "outputs": [
      {
       "latex": [
        "$$\\mathcal{O}\\left(2 h^{3}\\right)$$"
       ],
       "metadata": {},
       "output_type": "pyout",
       "png": "[encoded data removed]",
       "prompt_number": 14,
       "text": [
        " \u239b   3\u239e\n",
        "O\u239d2\u22c5h \u23a0"
       ]
      }
     ],
     "prompt_number": 14
    },
    {
     "cell_type": "code",
     "collapsed": false,
     "input": [
      "# Error for \"Kutta's third-order method\"\n",
      "get_order(\n",
      "        c = [sp.Rational(0, 1),\n",
      "             sp.Rational(1, 2),\n",
      "             sp.Rational(1, 1)],\n",
      "        b = [sp.Rational(1, 6),\n",
      "             sp.Rational(2, 3),\n",
      "             sp.Rational(1, 6)],\n",
      "        a = [[],\n",
      "             [sp.Rational(1, 2)],\n",
      "             [sp.Rational(-1, 1), sp.Rational(2, 1)]],\n",
      "        n = 6)"
     ],
     "language": "python",
     "metadata": {},
     "outputs": [
      {
       "latex": [
        "$$\\mathcal{O}\\left(2 h^{4}\\right)$$"
       ],
       "metadata": {},
       "output_type": "pyout",
       "png": "[encoded data removed]",
       "prompt_number": 15,
       "text": [
        " \u239b   4\u239e\n",
        "O\u239d2\u22c5h \u23a0"
       ]
      }
     ],
     "prompt_number": 15
    },
    {
     "cell_type": "markdown",
     "metadata": {},
     "source": [
      "Finite differences with error terms\n",
      "-----------------------------------"
     ]
    },
    {
     "cell_type": "code",
     "collapsed": false,
     "input": [
      "def centered_differences(neighbours = 1):\n",
      "    npoints = neighbours*2+1\n",
      "    x = sp.Symbol('x')\n",
      "    y = sp.Symbol('y')\n",
      "    f = [sp.Symbol('f_{0}'.format(i)) for i in range(npoints)]\n",
      "    t = sum(f[i]*y**i/sp.factorial(i) for i in range(len(f)))\n",
      "    h = sp.Symbol('h')\n",
      "    F = sp.Function('f')\n",
      "    solution = sp.solve([t.subs(y, -i*h) - F(x-i*h)\n",
      "                     for i in range(-neighbours, neighbours+1)],\n",
      "                    f)\n",
      "    expansion = {}\n",
      "    for k in solution.keys():\n",
      "        expansion[k] = sp.simplify(solution[k].series(\n",
      "                x = h, x0 = 0, n = npoints))\n",
      "    return solution, expansion"
     ],
     "language": "python",
     "metadata": {},
     "outputs": [],
     "prompt_number": 16
    },
    {
     "cell_type": "code",
     "collapsed": false,
     "input": [
      "centered_differences(2)"
     ],
     "language": "python",
     "metadata": {},
     "outputs": [
      {
       "latex": [
        "$$\\left ( \\left \\{ f_{0} : f{\\left (x \\right )}, \\quad f_{1} : \\frac{1}{12 h} \\left(f{\\left (- 2 h + x \\right )} - 8 f{\\left (- h + x \\right )} + 8 f{\\left (h + x \\right )} - f{\\left (2 h + x \\right )}\\right), \\quad f_{2} : \\frac{1}{12 h^{2}} \\left(- 30 f{\\left (x \\right )} - f{\\left (- 2 h + x \\right )} + 16 f{\\left (- h + x \\right )} + 16 f{\\left (h + x \\right )} - f{\\left (2 h + x \\right )}\\right), \\quad f_{3} : \\frac{1}{h^{3}} \\left(- \\frac{1}{2} f{\\left (- 2 h + x \\right )} + f{\\left (- h + x \\right )} - f{\\left (h + x \\right )} + \\frac{1}{2} f{\\left (2 h + x \\right )}\\right), \\quad f_{4} : \\frac{1}{h^{4}} \\left(6 f{\\left (x \\right )} + f{\\left (- 2 h + x \\right )} - 4 f{\\left (- h + x \\right )} - 4 f{\\left (h + x \\right )} + f{\\left (2 h + x \\right )}\\right)\\right \\}, \\quad \\left \\{ f_{0} : f{\\left (x \\right )}, \\quad f_{1} : \\left. \\frac{d}{d \\xi_{1}} f{\\left (\\xi_{1} \\right )} \\right|_{\\substack{ \\xi_{1}=x }} - \\frac{h^{4}}{30} \\left. \\frac{d^{5}}{d \\xi_{1}^{5}}  f{\\left (\\xi_{1} \\right )} \\right|_{\\substack{ \\xi_{1}=x }} + \\mathcal{O}\\left(h^{5}\\right), \\quad f_{2} : \\left. \\frac{d^{2}}{d \\xi_{1}^{2}}  f{\\left (\\xi_{1} \\right )} \\right|_{\\substack{ \\xi_{1}=x }} - \\frac{h^{4}}{90} \\left. \\frac{d^{6}}{d \\xi_{1}^{6}}  f{\\left (\\xi_{1} \\right )} \\right|_{\\substack{ \\xi_{1}=x }} + \\mathcal{O}\\left(h^{5}\\right), \\quad f_{3} : \\left. \\frac{d^{3}}{d \\xi_{1}^{3}}  f{\\left (\\xi_{1} \\right )} \\right|_{\\substack{ \\xi_{1}=x }} + \\frac{h^{2}}{4} \\left. \\frac{d^{5}}{d \\xi_{1}^{5}}  f{\\left (\\xi_{1} \\right )} \\right|_{\\substack{ \\xi_{1}=x }} + \\frac{h^{4}}{40} \\left. \\frac{d^{7}}{d \\xi_{1}^{7}}  f{\\left (\\xi_{1} \\right )} \\right|_{\\substack{ \\xi_{1}=x }} + \\mathcal{O}\\left(h^{5}\\right), \\quad f_{4} : \\left. \\frac{d^{4}}{d \\xi_{1}^{4}}  f{\\left (\\xi_{1} \\right )} \\right|_{\\substack{ \\xi_{1}=x }} + \\frac{h^{2}}{6} \\left. \\frac{d^{6}}{d \\xi_{1}^{6}}  f{\\left (\\xi_{1} \\right )} \\right|_{\\substack{ \\xi_{1}=x }} + \\frac{h^{4}}{80} \\left. \\frac{d^{8}}{d \\xi_{1}^{8}}  f{\\left (\\xi_{1} \\right )} \\right|_{\\substack{ \\xi_{1}=x }} + \\mathcal{O}\\left(h^{5}\\right)\\right \\}\\right )$$"
       ],
       "metadata": {},
       "output_type": "pyout",
       "png": "[encoded data removed]",
       "prompt_number": 17,
       "text": [
        "\u239b                                                                             \n",
        "\u239c                                                                             \n",
        "\u239c\u23a7                                                                            \n",
        "\u239c\u23aa                                                                            \n",
        "\u239c\u23aa              f(-2\u22c5h + x) - 8\u22c5f(-h + x) + 8\u22c5f(h + x) - f(2\u22c5h + x)      -30\u22c5f\n",
        "\u239c\u23a8f\u2080: f(x), f\u2081: \u2500\u2500\u2500\u2500\u2500\u2500\u2500\u2500\u2500\u2500\u2500\u2500\u2500\u2500\u2500\u2500\u2500\u2500\u2500\u2500\u2500\u2500\u2500\u2500\u2500\u2500\u2500\u2500\u2500\u2500\u2500\u2500\u2500\u2500\u2500\u2500\u2500\u2500\u2500\u2500\u2500\u2500\u2500\u2500\u2500\u2500\u2500\u2500\u2500\u2500\u2500, f\u2082: \u2500\u2500\u2500\u2500\u2500\n",
        "\u239c\u23aa                                      12\u22c5h                                  \n",
        "\u239c\u23aa                                                                            \n",
        "\u239d\u23a9                                                                            \n",
        "\n",
        "                                                                              \n",
        "                                                                              \n",
        "                                                                   f(-2\u22c5h + x)\n",
        "                                                                 - \u2500\u2500\u2500\u2500\u2500\u2500\u2500\u2500\u2500\u2500\u2500\n",
        "(x) - f(-2\u22c5h + x) + 16\u22c5f(-h + x) + 16\u22c5f(h + x) - f(2\u22c5h + x)             2     \n",
        "\u2500\u2500\u2500\u2500\u2500\u2500\u2500\u2500\u2500\u2500\u2500\u2500\u2500\u2500\u2500\u2500\u2500\u2500\u2500\u2500\u2500\u2500\u2500\u2500\u2500\u2500\u2500\u2500\u2500\u2500\u2500\u2500\u2500\u2500\u2500\u2500\u2500\u2500\u2500\u2500\u2500\u2500\u2500\u2500\u2500\u2500\u2500\u2500\u2500\u2500\u2500\u2500\u2500\u2500\u2500\u2500\u2500\u2500\u2500, f\u2083: \u2500\u2500\u2500\u2500\u2500\u2500\u2500\u2500\u2500\u2500\u2500\u2500\u2500\n",
        "                            2                                                 \n",
        "                        12\u22c5h                                                  \n",
        "                                                                              \n",
        "\n",
        "                                                                              \n",
        "                                                                              \n",
        "                          f(2\u22c5h + x)                                          \n",
        " + f(-h + x) - f(h + x) + \u2500\u2500\u2500\u2500\u2500\u2500\u2500\u2500\u2500\u2500                                          \n",
        "                              2           6\u22c5f(x) + f(-2\u22c5h + x) - 4\u22c5f(-h + x) -\n",
        "\u2500\u2500\u2500\u2500\u2500\u2500\u2500\u2500\u2500\u2500\u2500\u2500\u2500\u2500\u2500\u2500\u2500\u2500\u2500\u2500\u2500\u2500\u2500\u2500\u2500\u2500\u2500\u2500\u2500\u2500\u2500\u2500\u2500\u2500\u2500\u2500, f\u2084: \u2500\u2500\u2500\u2500\u2500\u2500\u2500\u2500\u2500\u2500\u2500\u2500\u2500\u2500\u2500\u2500\u2500\u2500\u2500\u2500\u2500\u2500\u2500\u2500\u2500\u2500\u2500\u2500\u2500\u2500\u2500\u2500\u2500\u2500\u2500\u2500\n",
        "            3                                                           4     \n",
        "           h                                                           h      \n",
        "                                                                              \n",
        "\n",
        "                           \u23a7                                     \u239b  5        \u239e\n",
        "                           \u23aa                                   4 \u239c d         \u239f\n",
        "                        \u23ab  \u23aa                                  h \u22c5\u239c\u2500\u2500\u2500\u2500(f(\u03be\u2081))\u239f\n",
        "                        \u23aa  \u23aa                                     \u239c   5       \u239f\n",
        " 4\u22c5f(h + x) + f(2\u22c5h + x)\u23aa  \u23a8              \u239b d        \u239e\u2502          \u239dd\u03be\u2081        \u23a0\n",
        "\u2500\u2500\u2500\u2500\u2500\u2500\u2500\u2500\u2500\u2500\u2500\u2500\u2500\u2500\u2500\u2500\u2500\u2500\u2500\u2500\u2500\u2500\u2500\u2500\u23ac, \u23aaf\u2080: f(x), f\u2081: \u239c\u2500\u2500\u2500(f(\u03be\u2081))\u239f\u2502     - \u2500\u2500\u2500\u2500\u2500\u2500\u2500\u2500\u2500\u2500\u2500\u2500\u2500\u2500\u2500\u2500\n",
        "                        \u23aa  \u23aa              \u239dd\u03be\u2081       \u23a0\u2502\u03be\u2081=x             30    \n",
        "                        \u23aa  \u23aa                                                  \n",
        "                        \u23ad  \u23a9                                                  \n",
        "\n",
        "\u2502                                          \u239b  6        \u239e\u2502                     \n",
        "\u2502                                        4 \u239c d         \u239f\u2502                     \n",
        "\u2502                                       h \u22c5\u239c\u2500\u2500\u2500\u2500(f(\u03be\u2081))\u239f\u2502                     \n",
        "\u2502                  \u239b  2        \u239e\u2502          \u239c   6       \u239f\u2502                  \u239b  \n",
        "\u2502\u03be\u2081=x    \u239b 5\u239e      \u239c d         \u239f\u2502          \u239dd\u03be\u2081        \u23a0\u2502\u03be\u2081=x    \u239b 5\u239e      \u239c d\n",
        "\u2500\u2500\u2500\u2500\u2500 + O\u239dh \u23a0, f\u2082: \u239c\u2500\u2500\u2500\u2500(f(\u03be\u2081))\u239f\u2502     - \u2500\u2500\u2500\u2500\u2500\u2500\u2500\u2500\u2500\u2500\u2500\u2500\u2500\u2500\u2500\u2500\u2500\u2500\u2500\u2500\u2500 + O\u239dh \u23a0, f\u2083: \u239c\u2500\u2500\n",
        "                   \u239c   2       \u239f\u2502                 90                       \u239c  \n",
        "                   \u239dd\u03be\u2081        \u23a0\u2502\u03be\u2081=x                                      \u239dd\u03be\n",
        "                                                                              \n",
        "\n",
        "                     \u239b  5        \u239e\u2502          \u239b  7        \u239e\u2502                   \n",
        "                   2 \u239c d         \u239f\u2502        4 \u239c d         \u239f\u2502                   \n",
        "                  h \u22c5\u239c\u2500\u2500\u2500\u2500(f(\u03be\u2081))\u239f\u2502       h \u22c5\u239c\u2500\u2500\u2500\u2500(f(\u03be\u2081))\u239f\u2502                   \n",
        "3        \u239e\u2502          \u239c   5       \u239f\u2502          \u239c   7       \u239f\u2502                  \u239b\n",
        "         \u239f\u2502          \u239dd\u03be\u2081        \u23a0\u2502\u03be\u2081=x      \u239dd\u03be\u2081        \u23a0\u2502\u03be\u2081=x    \u239b 5\u239e      \u239c\n",
        "\u2500\u2500(f(\u03be\u2081))\u239f\u2502     + \u2500\u2500\u2500\u2500\u2500\u2500\u2500\u2500\u2500\u2500\u2500\u2500\u2500\u2500\u2500\u2500\u2500\u2500\u2500\u2500\u2500 + \u2500\u2500\u2500\u2500\u2500\u2500\u2500\u2500\u2500\u2500\u2500\u2500\u2500\u2500\u2500\u2500\u2500\u2500\u2500\u2500\u2500 + O\u239dh \u23a0, f\u2084: \u239c\n",
        " 3       \u239f\u2502                 4                       40                       \u239c\n",
        "\u2081        \u23a0\u2502\u03be\u2081=x                                                              \u239d\n",
        "                                                                              \n",
        "\n",
        "                       \u239b  6        \u239e\u2502          \u239b  8        \u239e\u2502            \u23ab\u239e\n",
        "                     2 \u239c d         \u239f\u2502        4 \u239c d         \u239f\u2502            \u23aa\u239f\n",
        "                    h \u22c5\u239c\u2500\u2500\u2500\u2500(f(\u03be\u2081))\u239f\u2502       h \u22c5\u239c\u2500\u2500\u2500\u2500(f(\u03be\u2081))\u239f\u2502            \u23aa\u239f\n",
        "  4        \u239e\u2502          \u239c   6       \u239f\u2502          \u239c   8       \u239f\u2502            \u23aa\u239f\n",
        " d         \u239f\u2502          \u239dd\u03be\u2081        \u23a0\u2502\u03be\u2081=x      \u239dd\u03be\u2081        \u23a0\u2502\u03be\u2081=x    \u239b 5\u239e\u23ac\u239f\n",
        "\u2500\u2500\u2500\u2500(f(\u03be\u2081))\u239f\u2502     + \u2500\u2500\u2500\u2500\u2500\u2500\u2500\u2500\u2500\u2500\u2500\u2500\u2500\u2500\u2500\u2500\u2500\u2500\u2500\u2500\u2500 + \u2500\u2500\u2500\u2500\u2500\u2500\u2500\u2500\u2500\u2500\u2500\u2500\u2500\u2500\u2500\u2500\u2500\u2500\u2500\u2500\u2500 + O\u239dh \u23a0\u23aa\u239f\n",
        "   4       \u239f\u2502                 6                       80                 \u23aa\u239f\n",
        "d\u03be\u2081        \u23a0\u2502\u03be\u2081=x                                                        \u23aa\u239f\n",
        "                                                                         \u23ad\u23a0"
       ]
      }
     ],
     "prompt_number": 17
    }
   ],
   "metadata": {}
  }
 ]
}