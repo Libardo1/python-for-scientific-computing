{
 "metadata": {
  "name": "",
  "signature": "sha256:ae2a0c00ee7f3c792257359f612aebd72c5e2db2c721683a84553e364eadcc8e"
 },
 "nbformat": 3,
 "nbformat_minor": 0,
 "worksheets": [
  {
   "cells": [
    {
     "cell_type": "markdown",
     "metadata": {},
     "source": [
      "Mayavi GUIs\n",
      "-----------\n",
      "\n",
      "Mayavi can be used for generating graphical user interfaces (GUIs) quite fast, as in the example discussed in class, available here:\n",
      "http://docs.enthought.com/mayavi/mayavi/auto/example_lorenz_ui.html#example-lorenz-ui.\n",
      "\n",
      "While the details of how to do this can get pretty convoluted, it should be noted that simple requirements will generally only require simple codes."
     ]
    },
    {
     "cell_type": "code",
     "collapsed": false,
     "input": [],
     "language": "python",
     "metadata": {},
     "outputs": [
      {
       "metadata": {},
       "output_type": "pyout",
       "prompt_number": 2,
       "text": [
        "True"
       ]
      }
     ],
     "prompt_number": 2
    },
    {
     "cell_type": "code",
     "collapsed": false,
     "input": [],
     "language": "python",
     "metadata": {},
     "outputs": []
    }
   ],
   "metadata": {}
  }
 ]
}